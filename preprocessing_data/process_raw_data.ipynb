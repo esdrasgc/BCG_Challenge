{
 "cells": [
  {
   "cell_type": "code",
   "execution_count": 4,
   "metadata": {},
   "outputs": [],
   "source": [
    "# !pip install pdfplumber\n",
    "# !pip install openai"
   ]
  },
  {
   "cell_type": "code",
   "execution_count": 5,
   "metadata": {},
   "outputs": [],
   "source": [
    "import pdfplumber\n",
    "from pathlib import Path\n",
    "\n",
    "def extract_text_from_pdf(pdf_path: Path, output_txt_path: Path):\n",
    "    \"\"\"\n",
    "    Extracts text from a PDF file and writes it to a text file,\n",
    "    attempting to preserve the structure such as titles and paragraphs.\n",
    "\n",
    "    Args:\n",
    "        pdf_path (Path): Path to the input PDF file.\n",
    "        output_txt_path (Path): Path to the output text file.\n",
    "    \"\"\"\n",
    "    try:\n",
    "        with pdfplumber.open(pdf_path) as pdf:\n",
    "            full_text = \"\"\n",
    "            for page_number, page in enumerate(pdf.pages, start=1):\n",
    "                # Extract text from the current page\n",
    "                text = page.extract_text()\n",
    "                if text:\n",
    "                    # Optionally, add page breaks or headers\n",
    "                    full_text += f\"\\n\\n--- Page {page_number} ---\\n\\n\"\n",
    "                    full_text += text\n",
    "            # Write the extracted text to the output file\n",
    "            output_txt_path.write_text(full_text, encoding='utf-8')\n",
    "        print(f\"Text successfully extracted to {output_txt_path}\")\n",
    "    except Exception as e:\n",
    "        print(f\"An error occurred while processing {pdf_path.name}: {e}\")\n",
    "\n",
    "def extract_text_from_pdfs_in_directory(directory_path: Path, output_directory: Path):\n",
    "    \"\"\"\n",
    "    Extracts text from all PDF files in a specified directory.\n",
    "\n",
    "    Args:\n",
    "        directory_path (Path): Path to the directory containing PDF files.\n",
    "        output_directory (Path): Path to the directory where text files will be saved.\n",
    "    \"\"\"\n",
    "    # Ensure the output directory exists\n",
    "    output_directory.mkdir(parents=True, exist_ok=True)\n",
    "    \n",
    "    # Iterate over all PDF files in the directory\n",
    "    for pdf_file in directory_path.glob('*.pdf'):\n",
    "        txt_filename = pdf_file.stem + '.txt'\n",
    "        output_txt_path = output_directory / txt_filename\n",
    "        extract_text_from_pdf(pdf_file, output_txt_path)\n",
    "\n",
    "if __name__ == \"__main__\":\n",
    "    # Example usage\n",
    "    data_path = Path().cwd().parent / 'data'\n",
    "    input_pdf_directory = data_path / 'raw'\n",
    "    output_text_directory = data_path / 'processed'\n",
    "    extract_text_from_pdfs_in_directory(input_pdf_directory, output_text_directory)\n"
   ]
  },
  {
   "cell_type": "code",
   "execution_count": 6,
   "metadata": {},
   "outputs": [],
   "source": [
    "\n",
    "metadata_pdfs = {\n",
    "    'nacional': {'filename': \"plano-acao-adaptacao-climatica-nacional.pdf\", 'start_page' : 6},\n",
    "    'agro': {'filename' : \"plano-acao-climatica-agro.pdf\", 'start_page' : 20},\n",
    "    'curitiba' : {'filename' : 'plano-acao-climatica-curitiba.pdf', \"start_page\" : 16},\n",
    "    'federal' : {'filename': 'plano-acao-climatica-federal.pdf', 'start_page' : 31},\n",
    "    'itabirito' : {'filename' : 'plano-acao-climatica-itabirito.pdf', \"start_page\" : 19},\n",
    "    'joao_pessoa' : {'filename' : \"plano-acao-climatica-joao-pessoa.pdf\", \"start_page\" : 14},\n",
    "    'sao_paulo' : {'filename' : \"plano-acao-climatica-sp-regiao.pdf\", \"start_page\" : 11}, \n",
    "    'enfretamento' : {'filename' : 'plano-enfrentamento-mudanca-climatica-nacional.pdf', \"start_page\" : 1} \n",
    "}"
   ]
  },
  {
   "cell_type": "code",
   "execution_count": 10,
   "metadata": {},
   "outputs": [],
   "source": [
    "def extract_text_from_pdf(pdf_path: Path, output_txt_path: Path, start_page : int = 1):\n",
    "    try:\n",
    "        with pdfplumber.open(pdf_path) as pdf:\n",
    "            full_text = \"\"\n",
    "            for page_number, page in enumerate(pdf.pages[start_page-1:], start=1):\n",
    "                # Extract text from the current page\n",
    "                text = page.extract_text()\n",
    "                if text:\n",
    "                    # Optionally, add page breaks or headers\n",
    "                    full_text += f\"\\n\\n--- Page {page_number} ---\\n\\n\"\n",
    "                    full_text += text\n",
    "            # Write the extracted text to the output file\n",
    "            output_txt_path.write_text(full_text, encoding='utf-8')\n",
    "        print(f\"Text successfully extracted to {output_txt_path}\")\n",
    "    except Exception as e:\n",
    "        print(f\"An error occurred while processing {pdf_path.name}: {e}\")"
   ]
  },
  {
   "cell_type": "code",
   "execution_count": 11,
   "metadata": {},
   "outputs": [
    {
     "name": "stdout",
     "output_type": "stream",
     "text": [
      "Text successfully extracted to c:\\Users\\esdra\\Documents\\BCG_Challenge\\data\\processed\\plano-acao-adaptacao-climatica-nacional.txt\n",
      "Text successfully extracted to c:\\Users\\esdra\\Documents\\BCG_Challenge\\data\\processed\\plano-acao-climatica-agro.txt\n",
      "Text successfully extracted to c:\\Users\\esdra\\Documents\\BCG_Challenge\\data\\processed\\plano-acao-climatica-curitiba.txt\n",
      "Text successfully extracted to c:\\Users\\esdra\\Documents\\BCG_Challenge\\data\\processed\\plano-acao-climatica-federal.txt\n",
      "Text successfully extracted to c:\\Users\\esdra\\Documents\\BCG_Challenge\\data\\processed\\plano-acao-climatica-itabirito.txt\n",
      "Text successfully extracted to c:\\Users\\esdra\\Documents\\BCG_Challenge\\data\\processed\\plano-acao-climatica-joao-pessoa.txt\n",
      "Text successfully extracted to c:\\Users\\esdra\\Documents\\BCG_Challenge\\data\\processed\\plano-acao-climatica-sp-regiao.txt\n",
      "Text successfully extracted to c:\\Users\\esdra\\Documents\\BCG_Challenge\\data\\processed\\plano-enfrentamento-mudanca-climatica-nacional.txt\n"
     ]
    }
   ],
   "source": [
    "data_path = Path().cwd().parent / 'data'\n",
    "input_pdf_directory = data_path / 'raw'\n",
    "output_text_directory = data_path / 'processed'\n",
    "\n",
    "output_text_directory.mkdir(parents=True, exist_ok=True)\n",
    "\n",
    "for nome, metadata in metadata_pdfs.items():\n",
    "    txt_filename = metadata['filename'][:-4] + '.txt'\n",
    "    output_txt_path = output_text_directory / txt_filename\n",
    "    extract_text_from_pdf(input_pdf_directory / metadata['filename'], output_txt_path, start_page = metadata['start_page'])\n",
    "\n",
    "\n"
   ]
  },
  {
   "cell_type": "code",
   "execution_count": null,
   "metadata": {},
   "outputs": [],
   "source": []
  }
 ],
 "metadata": {
  "kernelspec": {
   "display_name": "Python 3",
   "language": "python",
   "name": "python3"
  },
  "language_info": {
   "codemirror_mode": {
    "name": "ipython",
    "version": 3
   },
   "file_extension": ".py",
   "mimetype": "text/x-python",
   "name": "python",
   "nbconvert_exporter": "python",
   "pygments_lexer": "ipython3",
   "version": "3.12.6"
  }
 },
 "nbformat": 4,
 "nbformat_minor": 2
}
