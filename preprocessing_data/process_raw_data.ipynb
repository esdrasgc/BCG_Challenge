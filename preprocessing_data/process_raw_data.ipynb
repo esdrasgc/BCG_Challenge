{
 "cells": [
  {
   "cell_type": "code",
   "execution_count": 5,
   "metadata": {},
   "outputs": [
    {
     "name": "stdout",
     "output_type": "stream",
     "text": [
      "Collecting pdfplumber\n",
      "  Downloading pdfplumber-0.11.4-py3-none-any.whl.metadata (41 kB)\n",
      "Collecting pdfminer.six==20231228 (from pdfplumber)\n",
      "  Downloading pdfminer.six-20231228-py3-none-any.whl.metadata (4.2 kB)\n",
      "Collecting Pillow>=9.1 (from pdfplumber)\n",
      "  Downloading pillow-10.4.0-cp312-cp312-win_amd64.whl.metadata (9.3 kB)\n",
      "Collecting pypdfium2>=4.18.0 (from pdfplumber)\n",
      "  Downloading pypdfium2-4.30.0-py3-none-win_amd64.whl.metadata (48 kB)\n",
      "Collecting charset-normalizer>=2.0.0 (from pdfminer.six==20231228->pdfplumber)\n",
      "  Downloading charset_normalizer-3.3.2-cp312-cp312-win_amd64.whl.metadata (34 kB)\n",
      "Collecting cryptography>=36.0.0 (from pdfminer.six==20231228->pdfplumber)\n",
      "  Downloading cryptography-43.0.1-cp39-abi3-win_amd64.whl.metadata (5.4 kB)\n",
      "Collecting cffi>=1.12 (from cryptography>=36.0.0->pdfminer.six==20231228->pdfplumber)\n",
      "  Downloading cffi-1.17.1-cp312-cp312-win_amd64.whl.metadata (1.6 kB)\n",
      "Collecting pycparser (from cffi>=1.12->cryptography>=36.0.0->pdfminer.six==20231228->pdfplumber)\n",
      "  Downloading pycparser-2.22-py3-none-any.whl.metadata (943 bytes)\n",
      "Downloading pdfplumber-0.11.4-py3-none-any.whl (59 kB)\n",
      "Downloading pdfminer.six-20231228-py3-none-any.whl (5.6 MB)\n",
      "   ---------------------------------------- 0.0/5.6 MB ? eta -:--:--\n",
      "   ---------------------------------------- 5.6/5.6 MB 48.7 MB/s eta 0:00:00\n",
      "Downloading pillow-10.4.0-cp312-cp312-win_amd64.whl (2.6 MB)\n",
      "   ---------------------------------------- 0.0/2.6 MB ? eta -:--:--\n",
      "   ---------------------------------------- 2.6/2.6 MB 143.3 MB/s eta 0:00:00\n",
      "Downloading pypdfium2-4.30.0-py3-none-win_amd64.whl (2.9 MB)\n",
      "   ---------------------------------------- 0.0/2.9 MB ? eta -:--:--\n",
      "   ---------------------------------------- 2.9/2.9 MB 84.8 MB/s eta 0:00:00\n",
      "Downloading charset_normalizer-3.3.2-cp312-cp312-win_amd64.whl (100 kB)\n",
      "Downloading cryptography-43.0.1-cp39-abi3-win_amd64.whl (3.1 MB)\n",
      "   ---------------------------------------- 0.0/3.1 MB ? eta -:--:--\n",
      "   ---------------------------------------- 3.1/3.1 MB 59.8 MB/s eta 0:00:00\n",
      "Downloading cffi-1.17.1-cp312-cp312-win_amd64.whl (181 kB)\n",
      "Downloading pycparser-2.22-py3-none-any.whl (117 kB)\n",
      "Installing collected packages: pypdfium2, pycparser, Pillow, charset-normalizer, cffi, cryptography, pdfminer.six, pdfplumber\n",
      "Successfully installed Pillow-10.4.0 cffi-1.17.1 charset-normalizer-3.3.2 cryptography-43.0.1 pdfminer.six-20231228 pdfplumber-0.11.4 pycparser-2.22 pypdfium2-4.30.0\n",
      "Requirement already satisfied: openai in c:\\users\\esdra\\appdata\\local\\programs\\python\\python312\\lib\\site-packages (1.50.2)\n",
      "Requirement already satisfied: anyio<5,>=3.5.0 in c:\\users\\esdra\\appdata\\local\\programs\\python\\python312\\lib\\site-packages (from openai) (4.6.0)\n",
      "Requirement already satisfied: distro<2,>=1.7.0 in c:\\users\\esdra\\appdata\\local\\programs\\python\\python312\\lib\\site-packages (from openai) (1.9.0)\n",
      "Requirement already satisfied: httpx<1,>=0.23.0 in c:\\users\\esdra\\appdata\\local\\programs\\python\\python312\\lib\\site-packages (from openai) (0.27.2)\n",
      "Requirement already satisfied: jiter<1,>=0.4.0 in c:\\users\\esdra\\appdata\\local\\programs\\python\\python312\\lib\\site-packages (from openai) (0.5.0)\n",
      "Requirement already satisfied: pydantic<3,>=1.9.0 in c:\\users\\esdra\\appdata\\local\\programs\\python\\python312\\lib\\site-packages (from openai) (2.9.2)\n",
      "Requirement already satisfied: sniffio in c:\\users\\esdra\\appdata\\local\\programs\\python\\python312\\lib\\site-packages (from openai) (1.3.1)\n",
      "Requirement already satisfied: tqdm>4 in c:\\users\\esdra\\appdata\\local\\programs\\python\\python312\\lib\\site-packages (from openai) (4.66.5)\n",
      "Requirement already satisfied: typing-extensions<5,>=4.11 in c:\\users\\esdra\\appdata\\local\\programs\\python\\python312\\lib\\site-packages (from openai) (4.12.2)\n",
      "Requirement already satisfied: idna>=2.8 in c:\\users\\esdra\\appdata\\local\\programs\\python\\python312\\lib\\site-packages (from anyio<5,>=3.5.0->openai) (3.10)\n",
      "Requirement already satisfied: certifi in c:\\users\\esdra\\appdata\\local\\programs\\python\\python312\\lib\\site-packages (from httpx<1,>=0.23.0->openai) (2024.8.30)\n",
      "Requirement already satisfied: httpcore==1.* in c:\\users\\esdra\\appdata\\local\\programs\\python\\python312\\lib\\site-packages (from httpx<1,>=0.23.0->openai) (1.0.5)\n",
      "Requirement already satisfied: h11<0.15,>=0.13 in c:\\users\\esdra\\appdata\\local\\programs\\python\\python312\\lib\\site-packages (from httpcore==1.*->httpx<1,>=0.23.0->openai) (0.14.0)\n",
      "Requirement already satisfied: annotated-types>=0.6.0 in c:\\users\\esdra\\appdata\\local\\programs\\python\\python312\\lib\\site-packages (from pydantic<3,>=1.9.0->openai) (0.7.0)\n",
      "Requirement already satisfied: pydantic-core==2.23.4 in c:\\users\\esdra\\appdata\\local\\programs\\python\\python312\\lib\\site-packages (from pydantic<3,>=1.9.0->openai) (2.23.4)\n",
      "Requirement already satisfied: colorama in c:\\users\\esdra\\appdata\\roaming\\python\\python312\\site-packages (from tqdm>4->openai) (0.4.6)\n"
     ]
    }
   ],
   "source": [
    "!pip install pdfplumber\n",
    "!pip install openai"
   ]
  },
  {
   "cell_type": "code",
   "execution_count": 8,
   "metadata": {},
   "outputs": [
    {
     "name": "stdout",
     "output_type": "stream",
     "text": [
      "Text successfully extracted to c:\\Users\\esdra\\Documents\\BCG_Challenge\\data\\processed\\plano-acao-adaptacao-climatica-nacional.txt\n",
      "Text successfully extracted to c:\\Users\\esdra\\Documents\\BCG_Challenge\\data\\processed\\plano-acao-climatica-agro.txt\n",
      "Text successfully extracted to c:\\Users\\esdra\\Documents\\BCG_Challenge\\data\\processed\\plano-acao-climatica-curitiba.txt\n",
      "Text successfully extracted to c:\\Users\\esdra\\Documents\\BCG_Challenge\\data\\processed\\plano-acao-climatica-federal.txt\n",
      "Text successfully extracted to c:\\Users\\esdra\\Documents\\BCG_Challenge\\data\\processed\\plano-acao-climatica-itabirito.txt\n",
      "Text successfully extracted to c:\\Users\\esdra\\Documents\\BCG_Challenge\\data\\processed\\plano-acao-climatica-joao-pessoa.txt\n",
      "Text successfully extracted to c:\\Users\\esdra\\Documents\\BCG_Challenge\\data\\processed\\plano-acao-climatica-sp-regiao.txt\n",
      "Text successfully extracted to c:\\Users\\esdra\\Documents\\BCG_Challenge\\data\\processed\\plano-enfrentamento-mudanca-climatica-nacional.txt\n"
     ]
    }
   ],
   "source": [
    "import pdfplumber\n",
    "from pathlib import Path\n",
    "\n",
    "def extract_text_from_pdf(pdf_path: Path, output_txt_path: Path):\n",
    "    \"\"\"\n",
    "    Extracts text from a PDF file and writes it to a text file,\n",
    "    attempting to preserve the structure such as titles and paragraphs.\n",
    "\n",
    "    Args:\n",
    "        pdf_path (Path): Path to the input PDF file.\n",
    "        output_txt_path (Path): Path to the output text file.\n",
    "    \"\"\"\n",
    "    try:\n",
    "        with pdfplumber.open(pdf_path) as pdf:\n",
    "            full_text = \"\"\n",
    "            for page_number, page in enumerate(pdf.pages, start=1):\n",
    "                # Extract text from the current page\n",
    "                text = page.extract_text()\n",
    "                if text:\n",
    "                    # Optionally, add page breaks or headers\n",
    "                    full_text += f\"\\n\\n--- Page {page_number} ---\\n\\n\"\n",
    "                    full_text += text\n",
    "            # Write the extracted text to the output file\n",
    "            output_txt_path.write_text(full_text, encoding='utf-8')\n",
    "        print(f\"Text successfully extracted to {output_txt_path}\")\n",
    "    except Exception as e:\n",
    "        print(f\"An error occurred while processing {pdf_path.name}: {e}\")\n",
    "\n",
    "def extract_text_from_pdfs_in_directory(directory_path: Path, output_directory: Path):\n",
    "    \"\"\"\n",
    "    Extracts text from all PDF files in a specified directory.\n",
    "\n",
    "    Args:\n",
    "        directory_path (Path): Path to the directory containing PDF files.\n",
    "        output_directory (Path): Path to the directory where text files will be saved.\n",
    "    \"\"\"\n",
    "    # Ensure the output directory exists\n",
    "    output_directory.mkdir(parents=True, exist_ok=True)\n",
    "    \n",
    "    # Iterate over all PDF files in the directory\n",
    "    for pdf_file in directory_path.glob('*.pdf'):\n",
    "        txt_filename = pdf_file.stem + '.txt'\n",
    "        output_txt_path = output_directory / txt_filename\n",
    "        extract_text_from_pdf(pdf_file, output_txt_path)\n",
    "\n",
    "if __name__ == \"__main__\":\n",
    "    # Example usage\n",
    "    data_path = Path().cwd().parent / 'data'\n",
    "    input_pdf_directory = data_path / 'raw'\n",
    "    output_text_directory = data_path / 'processed'\n",
    "    extract_text_from_pdfs_in_directory(input_pdf_directory, output_text_directory)\n"
   ]
  },
  {
   "cell_type": "code",
   "execution_count": null,
   "metadata": {},
   "outputs": [],
   "source": []
  }
 ],
 "metadata": {
  "kernelspec": {
   "display_name": "Python 3",
   "language": "python",
   "name": "python3"
  },
  "language_info": {
   "codemirror_mode": {
    "name": "ipython",
    "version": 3
   },
   "file_extension": ".py",
   "mimetype": "text/x-python",
   "name": "python",
   "nbconvert_exporter": "python",
   "pygments_lexer": "ipython3",
   "version": "3.12.6"
  }
 },
 "nbformat": 4,
 "nbformat_minor": 2
}
